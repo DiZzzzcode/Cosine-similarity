{
 "cells": [
  {
   "cell_type": "code",
   "execution_count": 1,
   "metadata": {},
   "outputs": [
    {
     "data": {
      "text/html": [
       "        <script type=\"text/javascript\">\n",
       "        window.PlotlyConfig = {MathJaxConfig: 'local'};\n",
       "        if (window.MathJax) {MathJax.Hub.Config({SVG: {font: \"STIX-Web\"}});}\n",
       "        if (typeof require !== 'undefined') {\n",
       "        require.undef(\"plotly\");\n",
       "        requirejs.config({\n",
       "            paths: {\n",
       "                'plotly': ['https://cdn.plot.ly/plotly-2.6.3.min']\n",
       "            }\n",
       "        });\n",
       "        require(['plotly'], function(Plotly) {\n",
       "            window._Plotly = Plotly;\n",
       "        });\n",
       "        }\n",
       "        </script>\n",
       "        "
      ]
     },
     "metadata": {},
     "output_type": "display_data"
    }
   ],
   "source": [
    "%matplotlib inline\n",
    "from scipy import stats\n",
    "from ast import literal_eval\n",
    "from sklearn.feature_extraction.text import TfidfVectorizer, CountVectorizer\n",
    "from sklearn.metrics.pairwise import linear_kernel, cosine_similarity\n",
    "import pandas as pd\n",
    "from datetime import datetime, date\n",
    "import numpy as np\n",
    "import seaborn as sns\n",
    "from sklearn.model_selection import train_test_split\n",
    "import matplotlib.pyplot as plt\n",
    "from sklearn.metrics import mean_squared_error, mean_absolute_error\n",
    "import plotly as py\n",
    "from plotly.offline import iplot, plot, init_notebook_mode, download_plotlyjs\n",
    "import plotly.graph_objs as go\n",
    "init_notebook_mode(connected=True)\n",
    "import plotly.offline as offline\n",
    "import operator\n",
    "%matplotlib inline\n",
    "import scipy as sp\n",
    "plt.style.use('fivethirtyeight') # For plots\n"
   ]
  },
  {
   "cell_type": "markdown",
   "metadata": {},
   "source": [
    "# Dish similarity"
   ]
  },
  {
   "cell_type": "code",
   "execution_count": 2,
   "metadata": {},
   "outputs": [],
   "source": [
    "md = pd.read_csv('rating.csv')\n"
   ]
  },
  {
   "cell_type": "code",
   "execution_count": 3,
   "metadata": {},
   "outputs": [
    {
     "data": {
      "text/html": [
       "<div>\n",
       "<style scoped>\n",
       "    .dataframe tbody tr th:only-of-type {\n",
       "        vertical-align: middle;\n",
       "    }\n",
       "\n",
       "    .dataframe tbody tr th {\n",
       "        vertical-align: top;\n",
       "    }\n",
       "\n",
       "    .dataframe thead th {\n",
       "        text-align: right;\n",
       "    }\n",
       "</style>\n",
       "<table border=\"1\" class=\"dataframe\">\n",
       "  <thead>\n",
       "    <tr style=\"text-align: right;\">\n",
       "      <th></th>\n",
       "      <th>meal_id</th>\n",
       "      <th>meal_title</th>\n",
       "      <th>meal_formatted_title</th>\n",
       "      <th>meal_container</th>\n",
       "      <th>dish_type</th>\n",
       "      <th>meal_hot</th>\n",
       "      <th>meal_ingredient_categories</th>\n",
       "      <th>meal_proteins</th>\n",
       "      <th>meal_grams</th>\n",
       "      <th>meal_fats</th>\n",
       "      <th>meal_carbs</th>\n",
       "      <th>meal_caloricity</th>\n",
       "      <th>есть рыба</th>\n",
       "      <th>есть мясо/птица</th>\n",
       "      <th>глютен</th>\n",
       "      <th>молочка</th>\n",
       "      <th>суп</th>\n",
       "      <th>ci_lower_bound</th>\n",
       "    </tr>\n",
       "  </thead>\n",
       "  <tbody>\n",
       "    <tr>\n",
       "      <th>0</th>\n",
       "      <td>448</td>\n",
       "      <td>СЫРНИКИ ТВОРОЖНЫЕ СО СМЕТАНОЙ 3ШТ/190ГР (JF)</td>\n",
       "      <td>Сырники со сметаной</td>\n",
       "      <td>36</td>\n",
       "      <td>3.0</td>\n",
       "      <td>1</td>\n",
       "      <td>глютен,молочка,сметана,яйца</td>\n",
       "      <td>15.90</td>\n",
       "      <td>190</td>\n",
       "      <td>13.02</td>\n",
       "      <td>9.73</td>\n",
       "      <td>220</td>\n",
       "      <td>0</td>\n",
       "      <td>0</td>\n",
       "      <td>1</td>\n",
       "      <td>1</td>\n",
       "      <td>0</td>\n",
       "      <td>0</td>\n",
       "    </tr>\n",
       "    <tr>\n",
       "      <th>1</th>\n",
       "      <td>554</td>\n",
       "      <td>СЫРНИКИ ТВОРОЖНЫЕ СО СМЕТАНОЙ 2ШТ/140ГР (JF)</td>\n",
       "      <td>Сырники со сметаной</td>\n",
       "      <td>36</td>\n",
       "      <td>3.0</td>\n",
       "      <td>1</td>\n",
       "      <td>глютен,молочка,сметана,яйца</td>\n",
       "      <td>10.95</td>\n",
       "      <td>140</td>\n",
       "      <td>10.68</td>\n",
       "      <td>6.97</td>\n",
       "      <td>168</td>\n",
       "      <td>0</td>\n",
       "      <td>0</td>\n",
       "      <td>1</td>\n",
       "      <td>1</td>\n",
       "      <td>0</td>\n",
       "      <td>0.171186</td>\n",
       "    </tr>\n",
       "    <tr>\n",
       "      <th>2</th>\n",
       "      <td>1</td>\n",
       "      <td>АБРИКОСЫ-СРЕДНИЙ ВЕС-120 3ШТ/103ГР (JF)</td>\n",
       "      <td>Абрикосы</td>\n",
       "      <td>суповая</td>\n",
       "      <td>0</td>\n",
       "      <td>0</td>\n",
       "      <td>0</td>\n",
       "      <td>0.93</td>\n",
       "      <td>103</td>\n",
       "      <td>0.10</td>\n",
       "      <td>9.27</td>\n",
       "      <td>42</td>\n",
       "      <td>0</td>\n",
       "      <td>0</td>\n",
       "      <td>0</td>\n",
       "      <td>0</td>\n",
       "      <td>0</td>\n",
       "      <td>0</td>\n",
       "    </tr>\n",
       "    <tr>\n",
       "      <th>3</th>\n",
       "      <td>10032</td>\n",
       "      <td>ОМЛЕТ С БРОККОЛИ И СТРУЧКОВОЙ ФАСОЛЬЮ 1ШТ/230Г...</td>\n",
       "      <td>Омлет с брокколи и стручковой фасолью</td>\n",
       "      <td>36</td>\n",
       "      <td>3.0</td>\n",
       "      <td>1</td>\n",
       "      <td>зелень,бобовые,глютен,злаки,капуста,молочка,пе...</td>\n",
       "      <td>14.97</td>\n",
       "      <td>230</td>\n",
       "      <td>16.15</td>\n",
       "      <td>7.36</td>\n",
       "      <td>235</td>\n",
       "      <td>0</td>\n",
       "      <td>0</td>\n",
       "      <td>1</td>\n",
       "      <td>1</td>\n",
       "      <td>0</td>\n",
       "      <td>0.637808</td>\n",
       "    </tr>\n",
       "    <tr>\n",
       "      <th>4</th>\n",
       "      <td>10084</td>\n",
       "      <td>ТВОРОГ С МАЛИНОЙ И МЮСЛИ 1ШТ/165ГР (JF)</td>\n",
       "      <td>Творог с малиной и мюсли</td>\n",
       "      <td>десертница</td>\n",
       "      <td>6.0</td>\n",
       "      <td>0</td>\n",
       "      <td>орехи,глютен,злаки,кукуруза,кунжут,молочка,сме...</td>\n",
       "      <td>15.53</td>\n",
       "      <td>165</td>\n",
       "      <td>19.83</td>\n",
       "      <td>24.59</td>\n",
       "      <td>338</td>\n",
       "      <td>0</td>\n",
       "      <td>0</td>\n",
       "      <td>1</td>\n",
       "      <td>1</td>\n",
       "      <td>0</td>\n",
       "      <td>0.889772</td>\n",
       "    </tr>\n",
       "  </tbody>\n",
       "</table>\n",
       "</div>"
      ],
      "text/plain": [
       "   meal_id                                         meal_title  \\\n",
       "0      448       СЫРНИКИ ТВОРОЖНЫЕ СО СМЕТАНОЙ 3ШТ/190ГР (JF)   \n",
       "1      554       СЫРНИКИ ТВОРОЖНЫЕ СО СМЕТАНОЙ 2ШТ/140ГР (JF)   \n",
       "2        1            АБРИКОСЫ-СРЕДНИЙ ВЕС-120 3ШТ/103ГР (JF)   \n",
       "3    10032  ОМЛЕТ С БРОККОЛИ И СТРУЧКОВОЙ ФАСОЛЬЮ 1ШТ/230Г...   \n",
       "4    10084            ТВОРОГ С МАЛИНОЙ И МЮСЛИ 1ШТ/165ГР (JF)   \n",
       "\n",
       "                    meal_formatted_title meal_container dish_type  meal_hot  \\\n",
       "0                    Сырники со сметаной             36       3.0         1   \n",
       "1                    Сырники со сметаной             36       3.0         1   \n",
       "2                               Абрикосы        суповая         0         0   \n",
       "3  Омлет с брокколи и стручковой фасолью             36       3.0         1   \n",
       "4               Творог с малиной и мюсли     десертница       6.0         0   \n",
       "\n",
       "                          meal_ingredient_categories  meal_proteins  \\\n",
       "0                        глютен,молочка,сметана,яйца          15.90   \n",
       "1                        глютен,молочка,сметана,яйца          10.95   \n",
       "2                                                  0           0.93   \n",
       "3  зелень,бобовые,глютен,злаки,капуста,молочка,пе...          14.97   \n",
       "4  орехи,глютен,злаки,кукуруза,кунжут,молочка,сме...          15.53   \n",
       "\n",
       "   meal_grams  meal_fats  meal_carbs  meal_caloricity  есть рыба  \\\n",
       "0         190      13.02        9.73              220          0   \n",
       "1         140      10.68        6.97              168          0   \n",
       "2         103       0.10        9.27               42          0   \n",
       "3         230      16.15        7.36              235          0   \n",
       "4         165      19.83       24.59              338          0   \n",
       "\n",
       "   есть мясо/птица  глютен  молочка  суп ci_lower_bound  \n",
       "0                0       1        1    0              0  \n",
       "1                0       1        1    0       0.171186  \n",
       "2                0       0        0    0              0  \n",
       "3                0       1        1    0       0.637808  \n",
       "4                0       1        1    0       0.889772  "
      ]
     },
     "execution_count": 3,
     "metadata": {},
     "output_type": "execute_result"
    }
   ],
   "source": [
    "md = md.fillna('0')"
   ]
  },
  {
   "cell_type": "code",
   "execution_count": 4,
   "metadata": {},
   "outputs": [
    {
     "data": {
      "text/plain": [
       "(1826, 33)"
      ]
     },
     "execution_count": 4,
     "metadata": {},
     "output_type": "execute_result"
    }
   ],
   "source": [
    "from sklearn.feature_extraction.text import TfidfVectorizer\n",
    "md['meal_ingredient_categories'] = md['meal_ingredient_categories'].fillna('')\n",
    "tfidf_matrix = tfidf.fit_transform(md['meal_ingredient_categories'])\n",
    "tfidf_matrix.shape"
   ]
  },
  {
   "cell_type": "code",
   "execution_count": 6,
   "metadata": {},
   "outputs": [],
   "source": [
    "# the cosine similarity matrix\n",
    "cosine_sim = linear_kernel(tfidf_matrix, tfidf_matrix)\n",
    "# a reverse map of indices and titles\n",
    "indices = pd.Series(md.index, index=md['meal_ingredient_categories']).drop_duplicates()\n",
    "def get_recommendations(meal_formatted_title, cosine_sim=cosine_sim):\n",
    "    idx = indices[meal_formatted_title]\n",
    "    sim_scores = list(enumerate(cosine_sim[idx]))\n",
    "    sim_scores = sorted(sim_scores, key=lambda x: x[1], reverse=True)\n",
    "    sim_scores = sim_scores[1:11]\n",
    "    movie_indices = [i[0] for i in sim_scores]\n",
    "    return md['meal_ingredient_categories'].iloc[movie_indices]"
   ]
  },
  {
   "cell_type": "code",
   "execution_count": 7,
   "metadata": {},
   "outputs": [
    {
     "data": {
      "text/plain": [
       "1063                   Мюсли с вишней\n",
       "1350                  Творог с вишней\n",
       "1351                  Творог с вишней\n",
       "1619           Рисовая каша с малиной\n",
       "1384    Запеканка творожная с малиной\n",
       "1389    Запеканка творожная с малиной\n",
       "856           Конфета-мюсли с бананом\n",
       "857           Конфета-мюсли с бананом\n",
       "1315          Конфета-мюсли с бананом\n",
       "1305        Смузи с бананом и малиной\n",
       "Name: meal_formatted_title, dtype: object"
      ]
     },
     "execution_count": 7,
     "metadata": {},
     "output_type": "execute_result"
    }
   ],
   "source": [
    "tf = TfidfVectorizer(analyzer='word',ngram_range=(1, 2),min_df=0, stop_words='english')\n",
    "tfidf_matrix = tf.fit_transform(md['meal_formatted_title'])\n",
    "tfidf_matrix.shape\n",
    "cosine_sim = linear_kernel(tfidf_matrix, tfidf_matrix)\n",
    "cosine_sim[0]\n",
    "md = md.reset_index()\n",
    "titles = md['meal_formatted_title']\n",
    "indices = pd.Series(md.index, index=md['meal_formatted_title'])\n",
    "def get_recommendations(title):\n",
    "    idx = indices[title]\n",
    "    sim_scores = list(enumerate(cosine_sim[idx]))\n",
    "    sim_scores = sorted(sim_scores, key=lambda x: x[1], reverse=True)\n",
    "    sim_scores = sim_scores[1:31]\n",
    "    meals_indices = [i[0] for i in sim_scores]\n",
    "    return titles.iloc[meals_indices]\n",
    "get_recommendations('Творог с малиной и мюсли').head(10)"
   ]
  },
  {
   "cell_type": "code",
   "execution_count": 8,
   "metadata": {},
   "outputs": [
    {
     "data": {
      "text/plain": [
       "1063                        МЮСЛИ С ВИШНЕЙ 1ШТ/180ГР (JF)\n",
       "168                     ЗАПЕКАНКА С ВИШНЕЙ 1ШТ/145ГР (JF)\n",
       "1372    КАША ПШЕННАЯ С КИНОА, РИСОМ И БАНАНОВО-ВИШНЕВЫ...\n",
       "36              ДЕСЕРТ ТВОРОЖНЫЙ СО СЛИВОЙ 1ШТ/190ГР (JF)\n",
       "57                 ТВОРОГ С ЯГОДНЫМ МИКСОМ 1ШТ/190ГР (JF)\n",
       "58                 ТВОРОГ С ЯГОДНЫМ МИКСОМ 1ШТ/250ГР (JF)\n",
       "1585              МУСС ТВОРОЖНЫЙ С ЯГОДАМИ 1ШТ/215ГР (JF)\n",
       "25          ЗАПЕКАНКА ТВОРОЖНАЯ С ЧЕРНИКОЙ 1ШТ/130ГР (JF)\n",
       "1554      КЛАССИЧЕСКАЯ ТВОРОЖНАЯ ЗАПЕКАНКА 1ШТ/130ГР (JF)\n",
       "1451                         ТАРТ С ТЫКВОЙ 1ШТ/150ГР (JF)\n",
       "1452                         ТАРТ С ТЫКВОЙ 1ШТ/100ГР (JF)\n",
       "239        ТВОРОЖНАЯ ЗАПЕКАНКА С ГОЛУБИКОЙ 1ШТ/177ГР (JF)\n",
       "1764             ПУДИНГ ЧИА С МАНГО И КИВИ 1ШТ/215ГР (JF)\n",
       "1765                ПУДИНГ ЧИА С ШОКОЛАДОМ 1ШТ/145ГР (JF)\n",
       "1786    ЛЕНИВАЯ ОВСЯНКА С БАНАНОМ И СЕМЕНАМИ ЛЬНА 1ШТ/...\n",
       "Name: meal_title, dtype: object"
      ]
     },
     "execution_count": 8,
     "metadata": {},
     "output_type": "execute_result"
    }
   ],
   "source": [
    "md['dish_type'] = md['dish_type'].astype('int')\n",
    "md['ci_lower_bound'] = md['ci_lower_bound'].astype('int')\n",
    "s = md.apply(lambda x: pd.Series(x['meal_ingredient_categories']),axis=1).stack().reset_index(level=1, drop=True)\n",
    "s.name = 'meal_ingredient_categories'\n",
    "tf1 = TfidfVectorizer(analyzer='word',ngram_range=(1, 2),min_df=0)\n",
    "tfidf_matrix1 = tf1.fit_transform(md['meal_ingredient_categories'])\n",
    "tfidf_matrix1.shape\n",
    "cosine_sim1 = linear_kernel(tfidf_matrix1, tfidf_matrix1)\n",
    "cosine_sim1[0]\n",
    "md1 = md.reset_index()\n",
    "titles1 = md1['meal_title']\n",
    "indices1 = pd.Series(md.index, index=md['meal_title'])\n",
    "def get_recommendations(title):\n",
    "    idx = indices1[title]\n",
    "    sim_scores1 = list(enumerate(cosine_sim1[idx]))\n",
    "    sim_scores1 = sorted(sim_scores1, key=lambda x: x[1], reverse=True)\n",
    "    sim_scores1 = sim_scores1[1:]\n",
    "    meals_indices1 = [i[0] for i in sim_scores1]\n",
    "    return titles1.iloc[meals_indices1]\n",
    "get_recommendations('ТВОРОГ С МАЛИНОЙ И МЮСЛИ 1ШТ/165ГР (JF)').head(15)"
   ]
  }
 ],
 "metadata": {
  "kernelspec": {
   "display_name": "Python 3 (ipykernel)",
   "language": "python",
   "name": "python3"
  },
  "language_info": {
   "codemirror_mode": {
    "name": "ipython",
    "version": 3
   },
   "file_extension": ".py",
   "mimetype": "text/x-python",
   "name": "python",
   "nbconvert_exporter": "python",
   "pygments_lexer": "ipython3",
   "version": "3.7.11"
  }
 },
 "nbformat": 4,
 "nbformat_minor": 4
}
